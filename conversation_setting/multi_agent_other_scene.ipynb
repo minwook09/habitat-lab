{
 "cells": [
  {
   "cell_type": "code",
   "execution_count": 1,
   "metadata": {},
   "outputs": [
    {
     "name": "stderr",
     "output_type": "stream",
     "text": [
      "/home/minwook0008/bin/anaconda3/envs/habitat/lib/python3.9/site-packages/tqdm/auto.py:21: TqdmWarning: IProgress not found. Please update jupyter and ipywidgets. See https://ipywidgets.readthedocs.io/en/stable/user_install.html\n",
      "  from .autonotebook import tqdm as notebook_tqdm\n"
     ]
    },
    {
     "name": "stdout",
     "output_type": "stream",
     "text": [
      "pybullet build time: Apr 11 2024 18:25:41\n"
     ]
    }
   ],
   "source": [
    "\n",
    "import habitat_sim\n",
    "import magnum as mn\n",
    "import warnings\n",
    "from habitat.tasks.rearrange.rearrange_sim import RearrangeSim\n",
    "warnings.filterwarnings('ignore')\n",
    "from habitat_sim.utils.settings import make_cfg\n",
    "from matplotlib import pyplot as plt\n",
    "from habitat_sim.utils import viz_utils as vut\n",
    "from omegaconf import DictConfig\n",
    "import numpy as np\n",
    "from habitat.articulated_agents.robots import FetchRobot\n",
    "from habitat.config.default import get_agent_config\n",
    "from habitat.config.default_structured_configs import ThirdRGBSensorConfig, HeadRGBSensorConfig, HeadPanopticSensorConfig\n",
    "from habitat.config.default_structured_configs import SimulatorConfig, HabitatSimV0Config, AgentConfig\n",
    "from habitat.config.default import get_agent_config\n",
    "import habitat\n",
    "from habitat_sim.physics import JointMotorSettings, MotionType\n",
    "from omegaconf import OmegaConf\n",
    "from habitat.articulated_agent_controllers import (\n",
    "    HumanoidRearrangeController,\n",
    "    HumanoidSeqPoseController,\n",
    ")\n",
    "from habitat.config.default_structured_configs import HumanoidJointActionConfig, HumanoidPickActionConfig\n",
    "\n"
   ]
  },
  {
   "cell_type": "code",
   "execution_count": 2,
   "metadata": {},
   "outputs": [],
   "source": [
    "from habitat.config.default_structured_configs import TaskConfig, EnvironmentConfig, DatasetConfig, HabitatConfig\n",
    "from habitat.config.default_structured_configs import ArmActionConfig, BaseVelocityActionConfig, OracleNavActionConfig\n",
    "from habitat.core.env import Env\n",
    "def make_sim_cfg(agent_dict):\n",
    "    # Start the scene config\n",
    "    sim_cfg = SimulatorConfig(type=\"RearrangeSim-v0\")\n",
    "    \n",
    "    # This is for better graphics\n",
    "    sim_cfg.habitat_sim_v0.enable_hbao = True\n",
    "    sim_cfg.habitat_sim_v0.enable_physics = True\n",
    "\n",
    "    \n",
    "    # Set up an example scene\n",
    "    sim_cfg.scene = \"/data/replica_cad/configs/scenes/apt_0.scene_instance.json\"\n",
    "    sim_cfg.scene_dataset = \"/data/replica_cad/replicaCAD.scene_dataset_config.json\"\n",
    "    sim_cfg.additional_object_paths = ['data/objects/ycb/configs/']\n",
    "\n",
    "    cfg = OmegaConf.create(sim_cfg)\n",
    "\n",
    "    # Set the scene agents\n",
    "    cfg.agents = agent_dict\n",
    "    cfg.agents_order = list(cfg.agents.keys())\n",
    "    return cfg\n",
    "\n",
    "def make_hab_cfg(agent_dict, action_dict):\n",
    "    sim_cfg = make_sim_cfg(agent_dict)\n",
    "    task_cfg = TaskConfig(type=\"RearrangeEmptyTask-v0\")\n",
    "    task_cfg.actions = action_dict\n",
    "    env_cfg = EnvironmentConfig()\n",
    "    dataset_cfg = DatasetConfig(type=\"RearrangeDataset-v0\", data_path=\"data/datasets/rearrange_pick/replica_cad/v0/rearrange_pick_replica_cad_v0/test/test_counter_L_analysis_5000_500.json.gz\")\n",
    "    \n",
    "    \n",
    "    hab_cfg = HabitatConfig()\n",
    "    hab_cfg.environment = env_cfg\n",
    "    hab_cfg.task = task_cfg\n",
    "    hab_cfg.dataset = dataset_cfg\n",
    "    hab_cfg.simulator = sim_cfg\n",
    "    hab_cfg.simulator.seed = hab_cfg.seed\n",
    "\n",
    "    return hab_cfg\n",
    "\n",
    "def init_rearrange_env(agent_dict, action_dict):\n",
    "    hab_cfg = make_hab_cfg(agent_dict, action_dict)\n",
    "    res_cfg = OmegaConf.create(hab_cfg)\n",
    "    return Env(res_cfg)"
   ]
  },
  {
   "cell_type": "code",
   "execution_count": 3,
   "metadata": {},
   "outputs": [],
   "source": [
    "# Define the agent configuration\n",
    "main_agent_config = AgentConfig()\n",
    "urdf_path = \"data/hab3_bench_assets/humanoids/female_0/female_0.urdf\"\n",
    "main_agent_config.articulated_agent_urdf = urdf_path\n",
    "main_agent_config.articulated_agent_type = \"KinematicHumanoid\"\n",
    "main_agent_config.motion_data_path = \"data/hab3_bench_assets/humanoids/female_0/female_0_motion_data_smplx.pkl\"\n",
    "\n",
    "\n",
    "# Define sensors that will be attached to this agent, here a third_rgb sensor and a head_rgb.\n",
    "# We will later talk about why giving the sensors these names\n",
    "main_agent_config.sim_sensors = {\n",
    "    \"third_rgb\": ThirdRGBSensorConfig(),\n",
    "    \"head_rgb\": HeadRGBSensorConfig(),\n",
    "}\n",
    "\n",
    "# We create a dictionary with names of agents and their corresponding agent configuration\n",
    "agent_dict = {\"main_agent\": main_agent_config}\n"
   ]
  },
  {
   "cell_type": "code",
   "execution_count": 17,
   "metadata": {},
   "outputs": [
    {
     "name": "stderr",
     "output_type": "stream",
     "text": [
      "2024-07-08 10:52:26,470 Initializing dataset RearrangeDataset-v0\n"
     ]
    },
    {
     "ename": "TypeError",
     "evalue": "__init__() got an unexpected keyword argument 'scene_config_path'",
     "output_type": "error",
     "traceback": [
      "\u001b[0;31m---------------------------------------------------------------------------\u001b[0m",
      "\u001b[0;31mTypeError\u001b[0m                                 Traceback (most recent call last)",
      "Cell \u001b[0;32mIn[17], line 15\u001b[0m\n\u001b[1;32m     13\u001b[0m     \u001b[38;5;28;01mfor\u001b[39;00m agent_id \u001b[38;5;129;01min\u001b[39;00m \u001b[38;5;28mrange\u001b[39m(\u001b[38;5;241m2\u001b[39m):\n\u001b[1;32m     14\u001b[0m         multi_agent_action_dict[\u001b[38;5;124mf\u001b[39m\u001b[38;5;124m\"\u001b[39m\u001b[38;5;124magent_\u001b[39m\u001b[38;5;132;01m{\u001b[39;00magent_id\u001b[38;5;132;01m}\u001b[39;00m\u001b[38;5;124m_\u001b[39m\u001b[38;5;132;01m{\u001b[39;00maction_name\u001b[38;5;132;01m}\u001b[39;00m\u001b[38;5;124m\"\u001b[39m] \u001b[38;5;241m=\u001b[39m action_config \n\u001b[0;32m---> 15\u001b[0m env \u001b[38;5;241m=\u001b[39m \u001b[43minit_rearrange_env\u001b[49m\u001b[43m(\u001b[49m\u001b[43magent_dict\u001b[49m\u001b[43m,\u001b[49m\u001b[43m \u001b[49m\u001b[43mmulti_agent_action_dict\u001b[49m\u001b[43m)\u001b[49m\n",
      "Cell \u001b[0;32mIn[13], line 46\u001b[0m, in \u001b[0;36minit_rearrange_env\u001b[0;34m(agent_dict, action_dict)\u001b[0m\n\u001b[1;32m     44\u001b[0m hab_cfg \u001b[38;5;241m=\u001b[39m make_hab_cfg(agent_dict, action_dict)\n\u001b[1;32m     45\u001b[0m res_cfg \u001b[38;5;241m=\u001b[39m OmegaConf\u001b[38;5;241m.\u001b[39mcreate(hab_cfg)\n\u001b[0;32m---> 46\u001b[0m \u001b[38;5;28;01mreturn\u001b[39;00m \u001b[43mEnv\u001b[49m\u001b[43m(\u001b[49m\u001b[43mres_cfg\u001b[49m\u001b[43m)\u001b[49m\n",
      "File \u001b[0;32m~/converationEmbodied/habitat-lab/habitat-lab/habitat/core/env.py:88\u001b[0m, in \u001b[0;36mEnv.__init__\u001b[0;34m(self, config, dataset)\u001b[0m\n\u001b[1;32m     86\u001b[0m \u001b[38;5;28mself\u001b[39m\u001b[38;5;241m.\u001b[39m_dataset \u001b[38;5;241m=\u001b[39m dataset\n\u001b[1;32m     87\u001b[0m \u001b[38;5;28;01mif\u001b[39;00m \u001b[38;5;28mself\u001b[39m\u001b[38;5;241m.\u001b[39m_dataset \u001b[38;5;129;01mis\u001b[39;00m \u001b[38;5;28;01mNone\u001b[39;00m \u001b[38;5;129;01mand\u001b[39;00m config\u001b[38;5;241m.\u001b[39mdataset\u001b[38;5;241m.\u001b[39mtype:\n\u001b[0;32m---> 88\u001b[0m     \u001b[38;5;28mself\u001b[39m\u001b[38;5;241m.\u001b[39m_dataset \u001b[38;5;241m=\u001b[39m \u001b[43mmake_dataset\u001b[49m\u001b[43m(\u001b[49m\n\u001b[1;32m     89\u001b[0m \u001b[43m        \u001b[49m\u001b[43mid_dataset\u001b[49m\u001b[38;5;241;43m=\u001b[39;49m\u001b[43mconfig\u001b[49m\u001b[38;5;241;43m.\u001b[39;49m\u001b[43mdataset\u001b[49m\u001b[38;5;241;43m.\u001b[39;49m\u001b[43mtype\u001b[49m\u001b[43m,\u001b[49m\u001b[43m \u001b[49m\u001b[43mconfig\u001b[49m\u001b[38;5;241;43m=\u001b[39;49m\u001b[43mconfig\u001b[49m\u001b[38;5;241;43m.\u001b[39;49m\u001b[43mdataset\u001b[49m\n\u001b[1;32m     90\u001b[0m \u001b[43m    \u001b[49m\u001b[43m)\u001b[49m\n\u001b[1;32m     92\u001b[0m \u001b[38;5;28mself\u001b[39m\u001b[38;5;241m.\u001b[39m_current_episode \u001b[38;5;241m=\u001b[39m \u001b[38;5;28;01mNone\u001b[39;00m\n\u001b[1;32m     93\u001b[0m \u001b[38;5;28mself\u001b[39m\u001b[38;5;241m.\u001b[39m_episode_iterator \u001b[38;5;241m=\u001b[39m \u001b[38;5;28;01mNone\u001b[39;00m\n",
      "File \u001b[0;32m~/converationEmbodied/habitat-lab/habitat-lab/habitat/datasets/registration.py:22\u001b[0m, in \u001b[0;36mmake_dataset\u001b[0;34m(id_dataset, **kwargs)\u001b[0m\n\u001b[1;32m     19\u001b[0m _dataset \u001b[38;5;241m=\u001b[39m registry\u001b[38;5;241m.\u001b[39mget_dataset(id_dataset)\n\u001b[1;32m     20\u001b[0m \u001b[38;5;28;01massert\u001b[39;00m _dataset \u001b[38;5;129;01mis\u001b[39;00m \u001b[38;5;129;01mnot\u001b[39;00m \u001b[38;5;28;01mNone\u001b[39;00m, \u001b[38;5;124m\"\u001b[39m\u001b[38;5;124mCould not find dataset \u001b[39m\u001b[38;5;132;01m{}\u001b[39;00m\u001b[38;5;124m\"\u001b[39m\u001b[38;5;241m.\u001b[39mformat(id_dataset)\n\u001b[0;32m---> 22\u001b[0m \u001b[38;5;28;01mreturn\u001b[39;00m \u001b[43m_dataset\u001b[49m\u001b[43m(\u001b[49m\u001b[38;5;241;43m*\u001b[39;49m\u001b[38;5;241;43m*\u001b[39;49m\u001b[43mkwargs\u001b[49m\u001b[43m)\u001b[49m\n",
      "File \u001b[0;32m~/converationEmbodied/habitat-lab/habitat-lab/habitat/datasets/rearrange/rearrange_dataset.py:74\u001b[0m, in \u001b[0;36mRearrangeDatasetV0.__init__\u001b[0;34m(self, config)\u001b[0m\n\u001b[1;32m     70\u001b[0m     logger\u001b[38;5;241m.\u001b[39minfo(\u001b[38;5;124m\"\u001b[39m\u001b[38;5;124mDownloaded and extracted the data.\u001b[39m\u001b[38;5;124m\"\u001b[39m)\n\u001b[1;32m     72\u001b[0m check_and_gen_physics_config()\n\u001b[0;32m---> 74\u001b[0m \u001b[38;5;28;43msuper\u001b[39;49m\u001b[43m(\u001b[49m\u001b[43m)\u001b[49m\u001b[38;5;241;43m.\u001b[39;49m\u001b[38;5;21;43m__init__\u001b[39;49m\u001b[43m(\u001b[49m\u001b[43mconfig\u001b[49m\u001b[43m)\u001b[49m\n",
      "File \u001b[0;32m~/converationEmbodied/habitat-lab/habitat-lab/habitat/datasets/pointnav/pointnav_dataset.py:116\u001b[0m, in \u001b[0;36mPointNavDatasetV1.__init__\u001b[0;34m(self, config)\u001b[0m\n\u001b[1;32m    112\u001b[0m     \u001b[38;5;28;01mreturn\u001b[39;00m\n\u001b[1;32m    114\u001b[0m datasetfile_path \u001b[38;5;241m=\u001b[39m config\u001b[38;5;241m.\u001b[39mdata_path\u001b[38;5;241m.\u001b[39mformat(split\u001b[38;5;241m=\u001b[39mconfig\u001b[38;5;241m.\u001b[39msplit)\n\u001b[0;32m--> 116\u001b[0m \u001b[38;5;28;43mself\u001b[39;49m\u001b[38;5;241;43m.\u001b[39;49m\u001b[43m_load_from_file\u001b[49m\u001b[43m(\u001b[49m\u001b[43mdatasetfile_path\u001b[49m\u001b[43m,\u001b[49m\u001b[43m \u001b[49m\u001b[43mconfig\u001b[49m\u001b[38;5;241;43m.\u001b[39;49m\u001b[43mscenes_dir\u001b[49m\u001b[43m)\u001b[49m\n\u001b[1;32m    118\u001b[0m \u001b[38;5;66;03m# Read separate file for each scene\u001b[39;00m\n\u001b[1;32m    119\u001b[0m dataset_dir \u001b[38;5;241m=\u001b[39m os\u001b[38;5;241m.\u001b[39mpath\u001b[38;5;241m.\u001b[39mdirname(datasetfile_path)\n",
      "File \u001b[0;32m~/converationEmbodied/habitat-lab/habitat-lab/habitat/datasets/pointnav/pointnav_dataset.py:106\u001b[0m, in \u001b[0;36mPointNavDatasetV1._load_from_file\u001b[0;34m(self, fname, scenes_dir)\u001b[0m\n\u001b[1;32m    104\u001b[0m \u001b[38;5;28;01melse\u001b[39;00m:\n\u001b[1;32m    105\u001b[0m     \u001b[38;5;28;01mwith\u001b[39;00m gzip\u001b[38;5;241m.\u001b[39mopen(fname, \u001b[38;5;124m\"\u001b[39m\u001b[38;5;124mrt\u001b[39m\u001b[38;5;124m\"\u001b[39m) \u001b[38;5;28;01mas\u001b[39;00m f:\n\u001b[0;32m--> 106\u001b[0m         \u001b[38;5;28;43mself\u001b[39;49m\u001b[38;5;241;43m.\u001b[39;49m\u001b[43mfrom_json\u001b[49m\u001b[43m(\u001b[49m\u001b[43mf\u001b[49m\u001b[38;5;241;43m.\u001b[39;49m\u001b[43mread\u001b[49m\u001b[43m(\u001b[49m\u001b[43m)\u001b[49m\u001b[43m,\u001b[49m\u001b[43m \u001b[49m\u001b[43mscenes_dir\u001b[49m\u001b[38;5;241;43m=\u001b[39;49m\u001b[43mscenes_dir\u001b[49m\u001b[43m)\u001b[49m\n",
      "File \u001b[0;32m~/converationEmbodied/habitat-lab/habitat-lab/habitat/datasets/rearrange/rearrange_dataset.py:82\u001b[0m, in \u001b[0;36mRearrangeDatasetV0.from_json\u001b[0;34m(self, json_str, scenes_dir)\u001b[0m\n\u001b[1;32m     79\u001b[0m deserialized \u001b[38;5;241m=\u001b[39m json\u001b[38;5;241m.\u001b[39mloads(json_str)\n\u001b[1;32m     81\u001b[0m \u001b[38;5;28;01mfor\u001b[39;00m i, episode \u001b[38;5;129;01min\u001b[39;00m \u001b[38;5;28menumerate\u001b[39m(deserialized[\u001b[38;5;124m\"\u001b[39m\u001b[38;5;124mepisodes\u001b[39m\u001b[38;5;124m\"\u001b[39m]):\n\u001b[0;32m---> 82\u001b[0m     rearrangement_episode \u001b[38;5;241m=\u001b[39m \u001b[43mRearrangeEpisode\u001b[49m\u001b[43m(\u001b[49m\u001b[38;5;241;43m*\u001b[39;49m\u001b[38;5;241;43m*\u001b[39;49m\u001b[43mepisode\u001b[49m\u001b[43m)\u001b[49m\n\u001b[1;32m     83\u001b[0m     rearrangement_episode\u001b[38;5;241m.\u001b[39mepisode_id \u001b[38;5;241m=\u001b[39m \u001b[38;5;28mstr\u001b[39m(i)\n\u001b[1;32m     85\u001b[0m     \u001b[38;5;28mself\u001b[39m\u001b[38;5;241m.\u001b[39mepisodes\u001b[38;5;241m.\u001b[39mappend(rearrangement_episode)\n",
      "\u001b[0;31mTypeError\u001b[0m: __init__() got an unexpected keyword argument 'scene_config_path'"
     ]
    }
   ],
   "source": [
    "agent_dict = {\"agent_0\": main_agent_config, \"agent_1\": sub_agent_config}\n",
    "action_dict = {\n",
    "    \"humanoid_joint_action\": HumanoidJointActionConfig(),\n",
    "    \"humanoid_navigate_action\": OracleNavActionConfig(type=\"OracleNavCoordinateAction\", \n",
    "                                                      motion_control=\"human_joints\",\n",
    "                                                      spawn_max_dist_to_obj=1.0),\n",
    "    \"humanoid_pick_obj_id_action\": HumanoidPickActionConfig(type=\"HumanoidPickObjIdAction\")\n",
    "    \n",
    "}\n",
    "\n",
    "multi_agent_action_dict = {}\n",
    "for action_name, action_config in action_dict.items():\n",
    "    for agent_id in range(2):\n",
    "        multi_agent_action_dict[f\"agent_{agent_id}_{action_name}\"] = action_config \n",
    "env = init_rearrange_env(agent_dict, multi_agent_action_dict)"
   ]
  },
  {
   "cell_type": "code",
   "execution_count": null,
   "metadata": {},
   "outputs": [],
   "source": []
  },
  {
   "cell_type": "code",
   "execution_count": null,
   "metadata": {},
   "outputs": [],
   "source": []
  }
 ],
 "metadata": {
  "kernelspec": {
   "display_name": "Python 3 (ipykernel)",
   "language": "python",
   "name": "python3"
  },
  "language_info": {
   "codemirror_mode": {
    "name": "ipython",
    "version": 3
   },
   "file_extension": ".py",
   "mimetype": "text/x-python",
   "name": "python",
   "nbconvert_exporter": "python",
   "pygments_lexer": "ipython3",
   "version": "3.9.19"
  },
  "vscode": {
   "interpreter": {
    "hash": "3cfc643c1fa0ef2ebe384878ee07878fdce90ebb1510303068698118bad90640"
   }
  }
 },
 "nbformat": 4,
 "nbformat_minor": 4
}
